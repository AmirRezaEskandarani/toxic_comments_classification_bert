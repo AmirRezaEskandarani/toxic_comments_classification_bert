{
  "nbformat": 4,
  "nbformat_minor": 0,
  "metadata": {
    "colab": {
      "provenance": []
    },
    "kernelspec": {
      "name": "python3",
      "display_name": "Python 3"
    },
    "language_info": {
      "name": "python"
    }
  },
  "cells": [
    {
      "cell_type": "markdown",
      "source": [
        "# Testing the model"
      ],
      "metadata": {
        "id": "fX3OS3AR6qeu"
      }
    },
    {
      "cell_type": "code",
      "execution_count": 6,
      "metadata": {
        "id": "DBcHcvXV3lhi"
      },
      "outputs": [],
      "source": [
        "from torch.utils.data import DataLoader, TensorDataset\n",
        "import torch\n",
        "from transformers import BertTokenizer, BertForSequenceClassification\n"
      ]
    },
    {
      "cell_type": "code",
      "source": [
        "from google.colab import drive\n",
        "drive.mount('/content/drive')"
      ],
      "metadata": {
        "colab": {
          "base_uri": "https://localhost:8080/"
        },
        "id": "ww1i2SfB3sUX",
        "outputId": "a565c217-4e0c-43d9-9601-cbc25040d477"
      },
      "execution_count": 7,
      "outputs": [
        {
          "output_type": "stream",
          "name": "stdout",
          "text": [
            "Drive already mounted at /content/drive; to attempt to forcibly remount, call drive.mount(\"/content/drive\", force_remount=True).\n"
          ]
        }
      ]
    },
    {
      "cell_type": "markdown",
      "source": [
        "## Loading the trained model"
      ],
      "metadata": {
        "id": "KmlWeVUK8RB1"
      }
    },
    {
      "cell_type": "code",
      "source": [
        "# Load the tokenizer and model from the saved directory\n",
        "model_name = \"/content/drive/MyDrive/project-toxic/toxic-model-v2\"\n",
        "Bert_Tokenizer = BertTokenizer.from_pretrained(model_name)\n",
        "Bert_Model = BertForSequenceClassification.from_pretrained(model_name)"
      ],
      "metadata": {
        "id": "4orjriXn4Y6E"
      },
      "execution_count": 8,
      "outputs": []
    },
    {
      "cell_type": "code",
      "source": [
        "def predict_user_input(input_text, model=Bert_Model, tokenizer=Bert_Tokenizer):\n",
        "    user_input = [input_text]\n",
        "\n",
        "    user_encodings = tokenizer(user_input, truncation=True, padding=True, return_tensors=\"pt\")\n",
        "\n",
        "    user_dataset = TensorDataset(user_encodings['input_ids'], user_encodings['attention_mask'])\n",
        "\n",
        "    user_loader = DataLoader(user_dataset, batch_size=1, shuffle=False)\n",
        "\n",
        "    model.eval()\n",
        "    with torch.no_grad():\n",
        "        for batch in user_loader:\n",
        "            input_ids, attention_mask = [t for t in batch]\n",
        "            outputs = model(input_ids, attention_mask=attention_mask)\n",
        "            logits = outputs.logits\n",
        "            predictions = torch.sigmoid(logits)\n",
        "\n",
        "    predicted_labels = (predictions.cpu().numpy() > 0.5).astype(int)\n",
        "    return predicted_labels[0].tolist()"
      ],
      "metadata": {
        "id": "fIn056rt56Mn"
      },
      "execution_count": 9,
      "outputs": []
    },
    {
      "cell_type": "code",
      "source": [
        "def predict_label(predicted_label):\n",
        "    labels = ['toxic', 'severe_toxic', 'obscene', 'threat', 'insult', 'identity_hate']\n",
        "    labels_pridicted = \"\"\n",
        "    for i in range(len(predicted_label)):\n",
        "        if predicted_label[i] == 1:\n",
        "            labels_pridicted += labels[i] + \" \"\n",
        "\n",
        "    if labels_pridicted == \"\":\n",
        "        print(\"Your comment is not toxic.\")\n",
        "    else:\n",
        "        print(f'Prdicted label(s) for your comment is {labels_pridicted}.')\n",
        "\n"
      ],
      "metadata": {
        "id": "zNgqjnQQ4lDL"
      },
      "execution_count": 20,
      "outputs": []
    },
    {
      "cell_type": "code",
      "source": [
        "labels_pridicted = \"\"\n",
        "if labels_pridicted == \"\":\n",
        "  print(\"hi\")"
      ],
      "metadata": {
        "colab": {
          "base_uri": "https://localhost:8080/"
        },
        "id": "UTzBrM2M8kdC",
        "outputId": "e88da2e8-749c-4b33-c93a-9f22d93533a6"
      },
      "execution_count": 21,
      "outputs": [
        {
          "output_type": "stream",
          "name": "stdout",
          "text": [
            "hi\n"
          ]
        }
      ]
    },
    {
      "cell_type": "code",
      "source": [
        "text = \"I'll kill you\"\n",
        "predicted_labels = predict_user_input(model=Bert_Model,\n",
        "                   tokenizer=Bert_Tokenizer,\n",
        "                   input_text=text)\n",
        "predict_label(predicted_labels)"
      ],
      "metadata": {
        "colab": {
          "base_uri": "https://localhost:8080/"
        },
        "id": "4UI_USU04mAd",
        "outputId": "b5b871dc-a450-4797-fb58-a74073d70c02"
      },
      "execution_count": 22,
      "outputs": [
        {
          "output_type": "stream",
          "name": "stdout",
          "text": [
            "Prdicted label(s) for your comment is toxic threat .\n"
          ]
        }
      ]
    },
    {
      "cell_type": "code",
      "source": [
        "text = \"I am happy\"\n",
        "predicted_labels = predict_user_input(model=Bert_Model,\n",
        "                   tokenizer=Bert_Tokenizer,\n",
        "                   input_text=text)\n",
        "predict_label(predicted_labels)"
      ],
      "metadata": {
        "colab": {
          "base_uri": "https://localhost:8080/"
        },
        "id": "4G1gSPau9Lu1",
        "outputId": "c06a3eb6-7362-4783-ba8d-fe831e101362"
      },
      "execution_count": 25,
      "outputs": [
        {
          "output_type": "stream",
          "name": "stdout",
          "text": [
            "Your comment is not toxic.\n"
          ]
        }
      ]
    },
    {
      "cell_type": "code",
      "source": [
        "text = input(\"Enter your comment: \")\n",
        "predicted_labels = predict_user_input(model=Bert_Model,\n",
        "                   tokenizer=Bert_Tokenizer,\n",
        "                   input_text=text)\n",
        "predict_label(predicted_labels)"
      ],
      "metadata": {
        "colab": {
          "base_uri": "https://localhost:8080/"
        },
        "id": "gyel-yDZ32mb",
        "outputId": "a1b67c5e-a224-4820-89ab-f35c306dbfda"
      },
      "execution_count": 19,
      "outputs": [
        {
          "output_type": "stream",
          "name": "stdout",
          "text": [
            "Enter your comment: I am good\n",
            "Prdicted label(s) for your comment is not toxic.\n"
          ]
        }
      ]
    },
    {
      "cell_type": "code",
      "source": [],
      "metadata": {
        "id": "Be-n09L88cVF"
      },
      "execution_count": 19,
      "outputs": []
    }
  ]
}